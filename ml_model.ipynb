{
  "cells": [
    {
      "cell_type": "code",
      "execution_count": null,
      "metadata": {
        "id": "YxN7k2DnVKLo"
      },
      "outputs": [],
      "source": [
        "import numpy as np\n",
        "import pandas as pd\n",
        "import matplotlib.pyplot as plt\n",
        "import io"
      ]
    },
    {
      "cell_type": "code",
      "execution_count": null,
      "metadata": {
        "id": "0QyGeplmVVg0"
      },
      "outputs": [],
      "source": [
        "df=pd.read_csv('/content/final-dataset.csv')"
      ]
    },
    {
      "cell_type": "code",
      "execution_count": null,
      "metadata": {
        "colab": {
          "base_uri": "https://localhost:8080/",
          "height": 206
        },
        "id": "hPNYDZymVWBn",
        "outputId": "dd363567-55b5-42c7-e1c8-cee8f641cd17"
      },
      "outputs": [
        {
          "output_type": "execute_result",
          "data": {
            "text/plain": [
              "        NAME                                             SMILES  label\n",
              "0  Allantoin                           C1(C(=O)NC(=O)N1)NC(=O)N      0\n",
              "1    Benzene                                        C1=CC=CC=C1      1\n",
              "2   Catechol                                  C1=CC=C(C(=C1)O)O      1\n",
              "3     Kepone  C1(=O)C2(C3(C4(C1(C5(C2(C3(C(C45Cl)(Cl)Cl)Cl)C...      1\n",
              "4   Coumarin                           C1=CC=C2C(=C1)C=CC(=O)O2      1"
            ],
            "text/html": [
              "\n",
              "  <div id=\"df-131c3a3e-77bb-43eb-933d-ed1af1217429\" class=\"colab-df-container\">\n",
              "    <div>\n",
              "<style scoped>\n",
              "    .dataframe tbody tr th:only-of-type {\n",
              "        vertical-align: middle;\n",
              "    }\n",
              "\n",
              "    .dataframe tbody tr th {\n",
              "        vertical-align: top;\n",
              "    }\n",
              "\n",
              "    .dataframe thead th {\n",
              "        text-align: right;\n",
              "    }\n",
              "</style>\n",
              "<table border=\"1\" class=\"dataframe\">\n",
              "  <thead>\n",
              "    <tr style=\"text-align: right;\">\n",
              "      <th></th>\n",
              "      <th>NAME</th>\n",
              "      <th>SMILES</th>\n",
              "      <th>label</th>\n",
              "    </tr>\n",
              "  </thead>\n",
              "  <tbody>\n",
              "    <tr>\n",
              "      <th>0</th>\n",
              "      <td>Allantoin</td>\n",
              "      <td>C1(C(=O)NC(=O)N1)NC(=O)N</td>\n",
              "      <td>0</td>\n",
              "    </tr>\n",
              "    <tr>\n",
              "      <th>1</th>\n",
              "      <td>Benzene</td>\n",
              "      <td>C1=CC=CC=C1</td>\n",
              "      <td>1</td>\n",
              "    </tr>\n",
              "    <tr>\n",
              "      <th>2</th>\n",
              "      <td>Catechol</td>\n",
              "      <td>C1=CC=C(C(=C1)O)O</td>\n",
              "      <td>1</td>\n",
              "    </tr>\n",
              "    <tr>\n",
              "      <th>3</th>\n",
              "      <td>Kepone</td>\n",
              "      <td>C1(=O)C2(C3(C4(C1(C5(C2(C3(C(C45Cl)(Cl)Cl)Cl)C...</td>\n",
              "      <td>1</td>\n",
              "    </tr>\n",
              "    <tr>\n",
              "      <th>4</th>\n",
              "      <td>Coumarin</td>\n",
              "      <td>C1=CC=C2C(=C1)C=CC(=O)O2</td>\n",
              "      <td>1</td>\n",
              "    </tr>\n",
              "  </tbody>\n",
              "</table>\n",
              "</div>\n",
              "    <div class=\"colab-df-buttons\">\n",
              "\n",
              "  <div class=\"colab-df-container\">\n",
              "    <button class=\"colab-df-convert\" onclick=\"convertToInteractive('df-131c3a3e-77bb-43eb-933d-ed1af1217429')\"\n",
              "            title=\"Convert this dataframe to an interactive table.\"\n",
              "            style=\"display:none;\">\n",
              "\n",
              "  <svg xmlns=\"http://www.w3.org/2000/svg\" height=\"24px\" viewBox=\"0 -960 960 960\">\n",
              "    <path d=\"M120-120v-720h720v720H120Zm60-500h600v-160H180v160Zm220 220h160v-160H400v160Zm0 220h160v-160H400v160ZM180-400h160v-160H180v160Zm440 0h160v-160H620v160ZM180-180h160v-160H180v160Zm440 0h160v-160H620v160Z\"/>\n",
              "  </svg>\n",
              "    </button>\n",
              "\n",
              "  <style>\n",
              "    .colab-df-container {\n",
              "      display:flex;\n",
              "      gap: 12px;\n",
              "    }\n",
              "\n",
              "    .colab-df-convert {\n",
              "      background-color: #E8F0FE;\n",
              "      border: none;\n",
              "      border-radius: 50%;\n",
              "      cursor: pointer;\n",
              "      display: none;\n",
              "      fill: #1967D2;\n",
              "      height: 32px;\n",
              "      padding: 0 0 0 0;\n",
              "      width: 32px;\n",
              "    }\n",
              "\n",
              "    .colab-df-convert:hover {\n",
              "      background-color: #E2EBFA;\n",
              "      box-shadow: 0px 1px 2px rgba(60, 64, 67, 0.3), 0px 1px 3px 1px rgba(60, 64, 67, 0.15);\n",
              "      fill: #174EA6;\n",
              "    }\n",
              "\n",
              "    .colab-df-buttons div {\n",
              "      margin-bottom: 4px;\n",
              "    }\n",
              "\n",
              "    [theme=dark] .colab-df-convert {\n",
              "      background-color: #3B4455;\n",
              "      fill: #D2E3FC;\n",
              "    }\n",
              "\n",
              "    [theme=dark] .colab-df-convert:hover {\n",
              "      background-color: #434B5C;\n",
              "      box-shadow: 0px 1px 3px 1px rgba(0, 0, 0, 0.15);\n",
              "      filter: drop-shadow(0px 1px 2px rgba(0, 0, 0, 0.3));\n",
              "      fill: #FFFFFF;\n",
              "    }\n",
              "  </style>\n",
              "\n",
              "    <script>\n",
              "      const buttonEl =\n",
              "        document.querySelector('#df-131c3a3e-77bb-43eb-933d-ed1af1217429 button.colab-df-convert');\n",
              "      buttonEl.style.display =\n",
              "        google.colab.kernel.accessAllowed ? 'block' : 'none';\n",
              "\n",
              "      async function convertToInteractive(key) {\n",
              "        const element = document.querySelector('#df-131c3a3e-77bb-43eb-933d-ed1af1217429');\n",
              "        const dataTable =\n",
              "          await google.colab.kernel.invokeFunction('convertToInteractive',\n",
              "                                                    [key], {});\n",
              "        if (!dataTable) return;\n",
              "\n",
              "        const docLinkHtml = 'Like what you see? Visit the ' +\n",
              "          '<a target=\"_blank\" href=https://colab.research.google.com/notebooks/data_table.ipynb>data table notebook</a>'\n",
              "          + ' to learn more about interactive tables.';\n",
              "        element.innerHTML = '';\n",
              "        dataTable['output_type'] = 'display_data';\n",
              "        await google.colab.output.renderOutput(dataTable, element);\n",
              "        const docLink = document.createElement('div');\n",
              "        docLink.innerHTML = docLinkHtml;\n",
              "        element.appendChild(docLink);\n",
              "      }\n",
              "    </script>\n",
              "  </div>\n",
              "\n",
              "\n",
              "<div id=\"df-ed7785fa-cbab-4bd9-904e-13d520cd83d6\">\n",
              "  <button class=\"colab-df-quickchart\" onclick=\"quickchart('df-ed7785fa-cbab-4bd9-904e-13d520cd83d6')\"\n",
              "            title=\"Suggest charts\"\n",
              "            style=\"display:none;\">\n",
              "\n",
              "<svg xmlns=\"http://www.w3.org/2000/svg\" height=\"24px\"viewBox=\"0 0 24 24\"\n",
              "     width=\"24px\">\n",
              "    <g>\n",
              "        <path d=\"M19 3H5c-1.1 0-2 .9-2 2v14c0 1.1.9 2 2 2h14c1.1 0 2-.9 2-2V5c0-1.1-.9-2-2-2zM9 17H7v-7h2v7zm4 0h-2V7h2v10zm4 0h-2v-4h2v4z\"/>\n",
              "    </g>\n",
              "</svg>\n",
              "  </button>\n",
              "\n",
              "<style>\n",
              "  .colab-df-quickchart {\n",
              "      --bg-color: #E8F0FE;\n",
              "      --fill-color: #1967D2;\n",
              "      --hover-bg-color: #E2EBFA;\n",
              "      --hover-fill-color: #174EA6;\n",
              "      --disabled-fill-color: #AAA;\n",
              "      --disabled-bg-color: #DDD;\n",
              "  }\n",
              "\n",
              "  [theme=dark] .colab-df-quickchart {\n",
              "      --bg-color: #3B4455;\n",
              "      --fill-color: #D2E3FC;\n",
              "      --hover-bg-color: #434B5C;\n",
              "      --hover-fill-color: #FFFFFF;\n",
              "      --disabled-bg-color: #3B4455;\n",
              "      --disabled-fill-color: #666;\n",
              "  }\n",
              "\n",
              "  .colab-df-quickchart {\n",
              "    background-color: var(--bg-color);\n",
              "    border: none;\n",
              "    border-radius: 50%;\n",
              "    cursor: pointer;\n",
              "    display: none;\n",
              "    fill: var(--fill-color);\n",
              "    height: 32px;\n",
              "    padding: 0;\n",
              "    width: 32px;\n",
              "  }\n",
              "\n",
              "  .colab-df-quickchart:hover {\n",
              "    background-color: var(--hover-bg-color);\n",
              "    box-shadow: 0 1px 2px rgba(60, 64, 67, 0.3), 0 1px 3px 1px rgba(60, 64, 67, 0.15);\n",
              "    fill: var(--button-hover-fill-color);\n",
              "  }\n",
              "\n",
              "  .colab-df-quickchart-complete:disabled,\n",
              "  .colab-df-quickchart-complete:disabled:hover {\n",
              "    background-color: var(--disabled-bg-color);\n",
              "    fill: var(--disabled-fill-color);\n",
              "    box-shadow: none;\n",
              "  }\n",
              "\n",
              "  .colab-df-spinner {\n",
              "    border: 2px solid var(--fill-color);\n",
              "    border-color: transparent;\n",
              "    border-bottom-color: var(--fill-color);\n",
              "    animation:\n",
              "      spin 1s steps(1) infinite;\n",
              "  }\n",
              "\n",
              "  @keyframes spin {\n",
              "    0% {\n",
              "      border-color: transparent;\n",
              "      border-bottom-color: var(--fill-color);\n",
              "      border-left-color: var(--fill-color);\n",
              "    }\n",
              "    20% {\n",
              "      border-color: transparent;\n",
              "      border-left-color: var(--fill-color);\n",
              "      border-top-color: var(--fill-color);\n",
              "    }\n",
              "    30% {\n",
              "      border-color: transparent;\n",
              "      border-left-color: var(--fill-color);\n",
              "      border-top-color: var(--fill-color);\n",
              "      border-right-color: var(--fill-color);\n",
              "    }\n",
              "    40% {\n",
              "      border-color: transparent;\n",
              "      border-right-color: var(--fill-color);\n",
              "      border-top-color: var(--fill-color);\n",
              "    }\n",
              "    60% {\n",
              "      border-color: transparent;\n",
              "      border-right-color: var(--fill-color);\n",
              "    }\n",
              "    80% {\n",
              "      border-color: transparent;\n",
              "      border-right-color: var(--fill-color);\n",
              "      border-bottom-color: var(--fill-color);\n",
              "    }\n",
              "    90% {\n",
              "      border-color: transparent;\n",
              "      border-bottom-color: var(--fill-color);\n",
              "    }\n",
              "  }\n",
              "</style>\n",
              "\n",
              "  <script>\n",
              "    async function quickchart(key) {\n",
              "      const quickchartButtonEl =\n",
              "        document.querySelector('#' + key + ' button');\n",
              "      quickchartButtonEl.disabled = true;  // To prevent multiple clicks.\n",
              "      quickchartButtonEl.classList.add('colab-df-spinner');\n",
              "      try {\n",
              "        const charts = await google.colab.kernel.invokeFunction(\n",
              "            'suggestCharts', [key], {});\n",
              "      } catch (error) {\n",
              "        console.error('Error during call to suggestCharts:', error);\n",
              "      }\n",
              "      quickchartButtonEl.classList.remove('colab-df-spinner');\n",
              "      quickchartButtonEl.classList.add('colab-df-quickchart-complete');\n",
              "    }\n",
              "    (() => {\n",
              "      let quickchartButtonEl =\n",
              "        document.querySelector('#df-ed7785fa-cbab-4bd9-904e-13d520cd83d6 button');\n",
              "      quickchartButtonEl.style.display =\n",
              "        google.colab.kernel.accessAllowed ? 'block' : 'none';\n",
              "    })();\n",
              "  </script>\n",
              "</div>\n",
              "\n",
              "    </div>\n",
              "  </div>\n"
            ],
            "application/vnd.google.colaboratory.intrinsic+json": {
              "type": "dataframe",
              "variable_name": "df",
              "summary": "{\n  \"name\": \"df\",\n  \"rows\": 1824,\n  \"fields\": [\n    {\n      \"column\": \"NAME\",\n      \"properties\": {\n        \"dtype\": \"string\",\n        \"num_unique_values\": 1332,\n        \"samples\": [\n          \"Procymidone\",\n          \"Bis(2-chloro-1-methylethyl)ether, technical grade\",\n          \"Oil Orange SS\"\n        ],\n        \"semantic_type\": \"\",\n        \"description\": \"\"\n      }\n    },\n    {\n      \"column\": \"SMILES\",\n      \"properties\": {\n        \"dtype\": \"string\",\n        \"num_unique_values\": 1669,\n        \"samples\": [\n          \"CC(O)CO\",\n          \"CC(C)(C)C(=O)N1C=CC=C1C(=O)O\",\n          \"C1COC(=O)N1N=O\"\n        ],\n        \"semantic_type\": \"\",\n        \"description\": \"\"\n      }\n    },\n    {\n      \"column\": \"label\",\n      \"properties\": {\n        \"dtype\": \"number\",\n        \"std\": 0,\n        \"min\": 0,\n        \"max\": 1,\n        \"num_unique_values\": 2,\n        \"samples\": [\n          1,\n          0\n        ],\n        \"semantic_type\": \"\",\n        \"description\": \"\"\n      }\n    }\n  ]\n}"
            }
          },
          "metadata": {},
          "execution_count": 3
        }
      ],
      "source": [
        "df.head()"
      ]
    },
    {
      "cell_type": "code",
      "execution_count": null,
      "metadata": {
        "colab": {
          "base_uri": "https://localhost:8080/"
        },
        "id": "bYnsyLfip_tG",
        "outputId": "d9c739ae-adb8-4b4d-86a3-ab570ca453da"
      },
      "outputs": [
        {
          "output_type": "stream",
          "name": "stdout",
          "text": [
            "Missing Values:\n",
            "NAME      0\n",
            "SMILES    0\n",
            "label     0\n",
            "dtype: int64\n"
          ]
        }
      ],
      "source": [
        "\n",
        "missing_values = df.isna().sum()\n",
        "\n",
        "print(\"Missing Values:\")\n",
        "print(missing_values)\n"
      ]
    },
    {
      "cell_type": "code",
      "execution_count": null,
      "metadata": {
        "colab": {
          "base_uri": "https://localhost:8080/"
        },
        "id": "7KYc2en9kp0y",
        "outputId": "01892378-3864-46df-b551-d332123378e7"
      },
      "outputs": [
        {
          "output_type": "stream",
          "name": "stdout",
          "text": [
            "Number of Oncogenic Compounds: 1397\n",
            "Number of Non-Oncogenic Compounds: 427\n"
          ]
        }
      ],
      "source": [
        "carcinogenic = df['label'].value_counts().get(1)\n",
        "non_carcinogenic = df['label'].value_counts().get(0)\n",
        "\n",
        "print(\"Number of Oncogenic Compounds:\", carcinogenic)\n",
        "print(\"Number of Non-Oncogenic Compounds:\", non_carcinogenic)\n"
      ]
    },
    {
      "cell_type": "code",
      "execution_count": null,
      "metadata": {
        "colab": {
          "base_uri": "https://localhost:8080/",
          "height": 559
        },
        "id": "AXbxCGJAxoc_",
        "outputId": "1baa1606-8f79-4693-9a83-c214d033d9ff"
      },
      "outputs": [
        {
          "output_type": "display_data",
          "data": {
            "text/plain": [
              "<Figure size 800x600 with 1 Axes>"
            ],
            "image/png": "[encoded data removed]"
          },
          "metadata": {}
        }
      ],
      "source": [
        "plt.figure(figsize=(8, 6))\n",
        "df['label'].value_counts().plot(kind='bar')\n",
        "plt.title('Distribution of Oncogenic and Non-Oncogenic Compounds')\n",
        "plt.xlabel('label')\n",
        "plt.ylabel('Count')\n",
        "plt.show()"
      ]
    },
    {
      "cell_type": "code",
      "execution_count": null,
      "metadata": {
        "colab": {
          "base_uri": "https://localhost:8080/"
        },
        "id": "g-MPuOKuldFV",
        "outputId": "6bae6db7-d807-4b12-c3cf-6aa64ea59021"
      },
      "outputs": [
        {
          "output_type": "stream",
          "name": "stdout",
          "text": [
            "Balanced Data:\n",
            "label\n",
            "1    427\n",
            "0    427\n",
            "Name: count, dtype: int64\n"
          ]
        }
      ],
      "source": [
        "\n",
        "from sklearn.utils import resample\n",
        "\n",
        "carcinogenic_data = df[df['label'] == 1]\n",
        "non_carcinogenic_data = df[df['label'] == 0]\n",
        "\n",
        "carcinogenic_upsampled = resample(\n",
        "    carcinogenic_data,\n",
        "    replace=True,\n",
        "    n_samples=len(non_carcinogenic_data),\n",
        "    random_state=42\n",
        ")\n",
        "\n",
        "balanced_data = pd.concat([carcinogenic_upsampled, non_carcinogenic_data])\n",
        "\n",
        "balanced_data = balanced_data.sample(frac=1, random_state=42)\n",
        "\n",
        "print(\"Balanced Data:\")\n",
        "print(balanced_data['label'].value_counts())\n"
      ]
    },
    {
      "cell_type": "code",
      "execution_count": null,
      "metadata": {
        "colab": {
          "base_uri": "https://localhost:8080/"
        },
        "id": "SLCSbM8ms6h-",
        "outputId": "eedb4641-b3d6-4d90-b6a5-8b714f753f41"
      },
      "outputs": [
        {
          "output_type": "stream",
          "name": "stdout",
          "text": [
            "                                                   NAME  \\\n",
            "1452                                           Dipyrone   \n",
            "28               Isopropyl-N-(3-chlorophenyl) carbamate   \n",
            "1156                      3-Hydroxy-p-butyrophenetidide   \n",
            "243                            3-Nitro-p-acetophenetide   \n",
            "907                        Demeclocycline hydrochloride   \n",
            "...                                                 ...   \n",
            "610                                 2-Biphenylamine.HCl   \n",
            "441                                           Indolidan   \n",
            "1340                                          Carbazole   \n",
            "29    O,O-Diethyl-o-(3,5,6-trichloro-2-pyridyl)phosp...   \n",
            "1589                           N-Nitroso-N-isobutylurea   \n",
            "\n",
            "                                       SMILES  \n",
            "1452                    CC(=O)N(C)C1=CC=CC=C1  \n",
            "28                CC(C)OC(=O)NC1=CC(=CC=C1)Cl  \n",
            "1156                       O=C1C(C=O)C=C(O)N1  \n",
            "243     CCOC1=C(C=C(C=C1)NC(=O)C)[N+](=O)[O-]  \n",
            "907           CC1=C(C(=O)O)C(=CC(=C1)C(=O)C)N  \n",
            "...                                       ...  \n",
            "610              C1=CC=C(C=C1)C2=CC=CC=C2N.Cl  \n",
            "441   CC1(C2=C(C=CC(=C2)C3=NNC(=O)CC3)NC1=O)C  \n",
            "1340                                   C12H9N  \n",
            "29        CCOP(=S)(OCC)OC1=NC(=C(C=C1Cl)Cl)Cl  \n",
            "1589                        CC(=O)N(C(C)C)N=O  \n",
            "\n",
            "[854 rows x 2 columns]\n"
          ]
        }
      ],
      "source": [
        "\n",
        "X = balanced_data.drop('label', axis=1)\n",
        "Y = balanced_data['label']\n",
        "print(X)\n"
      ]
    },
    {
      "cell_type": "code",
      "execution_count": null,
      "metadata": {
        "colab": {
          "base_uri": "https://localhost:8080/"
        },
        "id": "TxpfnWontJ_0",
        "outputId": "d84d533a-31d2-46a1-a92c-8f4048ce24a7"
      },
      "outputs": [
        {
          "output_type": "stream",
          "name": "stdout",
          "text": [
            "1452    1\n",
            "28      0\n",
            "1156    1\n",
            "243     1\n",
            "907     0\n",
            "       ..\n",
            "610     1\n",
            "441     1\n",
            "1340    1\n",
            "29      0\n",
            "1589    1\n",
            "Name: label, Length: 854, dtype: int64\n"
          ]
        }
      ],
      "source": [
        "print(Y)\n"
      ]
    },
    {
      "cell_type": "code",
      "execution_count": null,
      "metadata": {
        "colab": {
          "base_uri": "https://localhost:8080/"
        },
        "id": "MhQyqJldKQWE",
        "outputId": "c86cc78b-a108-4e89-cc12-cc0d144c19fb"
      },
      "outputs": [
        {
          "output_type": "stream",
          "name": "stdout",
          "text": [
            "Collecting rdkit-pypi\n",
            "  Downloading rdkit_pypi-2022.9.5-cp310-cp310-manylinux_2_17_x86_64.manylinux2014_x86_64.whl.metadata (3.9 kB)\n",
            "Requirement already satisfied: numpy in /usr/local/lib/python3.10/dist-packages (from rdkit-pypi) (1.26.4)\n",
            "Requirement already satisfied: Pillow in /usr/local/lib/python3.10/dist-packages (from rdkit-pypi) (10.4.0)\n",
            "Downloading rdkit_pypi-2022.9.5-cp310-cp310-manylinux_2_17_x86_64.manylinux2014_x86_64.whl (29.4 MB)\n",
            "\u001b[2K   \u001b[90m━━━━━━━━━━━━━━━━━━━━━━━━━━━━━━━━━━━━━━━━\u001b[0m \u001b[32m29.4/29.4 MB\u001b[0m \u001b[31m57.0 MB/s\u001b[0m eta \u001b[36m0:00:00\u001b[0m\n",
            "\u001b[?25hInstalling collected packages: rdkit-pypi\n",
            "Successfully installed rdkit-pypi-2022.9.5\n"
          ]
        }
      ],
      "source": [
        "pip install rdkit-pypi"
      ]
    },
    {
      "cell_type": "code",
      "execution_count": null,
      "metadata": {
        "colab": {
          "base_uri": "https://localhost:8080/"
        },
        "id": "33K0O5jLMiLX",
        "outputId": "4c263cab-1631-46e5-d71e-ef3d941a9bd2"
      },
      "outputs": [
        {
          "output_type": "stream",
          "name": "stderr",
          "text": [
            "[06:51:42] Explicit valence for atom # 3 N, 4, is greater than permitted\n",
            "[06:51:42] Explicit valence for atom # 3 N, 4, is greater than permitted\n",
            "[06:51:42] Explicit valence for atom # 6 N, 4, is greater than permitted\n",
            "[06:51:42] SMILES Parse Error: unclosed ring for input: 'C1=CC(C)=CC(N)=N'\n",
            "[06:51:42] SMILES Parse Error: unclosed ring for input: 'C1=NN=NC(C)=O'\n",
            "[06:51:43] Explicit valence for atom # 3 O, 3, is greater than permitted\n",
            "[06:51:43] Explicit valence for atom # 1 Cl, 2, is greater than permitted\n",
            "[06:51:43] SMILES Parse Error: unclosed ring for input: 'C1=CC=C(CBr)C(=O)OBr'\n",
            "[06:51:43] SMILES Parse Error: unclosed ring for input: 'C1=CC=C(C(Cl)=O)C(Cl)=O'\n",
            "[06:51:43] SMILES Parse Error: syntax error while parsing: CC1=CC=CC(C=O)=C1[HCl]\n",
            "[06:51:43] SMILES Parse Error: Failed parsing SMILES 'CC1=CC=CC(C=O)=C1[HCl]' for input: 'CC1=CC=CC(C=O)=C1[HCl]'\n",
            "[06:51:43] SMILES Parse Error: syntax error while parsing: CC1=CC=C(C=N)C=C1[HCl]\n",
            "[06:51:43] SMILES Parse Error: Failed parsing SMILES 'CC1=CC=C(C=N)C=C1[HCl]' for input: 'CC1=CC=C(C=N)C=C1[HCl]'\n",
            "[06:51:43] Explicit valence for atom # 6 N, 4, is greater than permitted\n",
            "[06:51:43] SMILES Parse Error: syntax error while parsing: CC1=CC=C(C=N)C=C1[HCl]\n",
            "[06:51:43] SMILES Parse Error: Failed parsing SMILES 'CC1=CC=C(C=N)C=C1[HCl]' for input: 'CC1=CC=C(C=N)C=C1[HCl]'\n",
            "[06:51:43] SMILES Parse Error: unclosed ring for input: 'CC(O)C=NC(=O)N=C1'\n",
            "[06:51:43] SMILES Parse Error: unclosed ring for input: 'O=C1C=NC(C=CCl)=C(Cl)N'\n",
            "[06:51:43] Explicit valence for atom # 4 C, 5, is greater than permitted\n",
            "[06:51:43] SMILES Parse Error: unclosed ring for input: 'ClC1=CC=C(CCl)C(CCl)=N'\n",
            "[06:51:43] SMILES Parse Error: unclosed ring for input: 'C1=CC=C(C(=C1)C(=C)C2=C(C=C(C2=O)N)C3)C4'\n",
            "[06:51:43] SMILES Parse Error: extra open parentheses for input: 'C1=CC2=C(C(=C1)N(C2=C(C)C)C3=C(C=C(C3)O)Cl'\n",
            "[06:51:43] SMILES Parse Error: unclosed ring for input: 'C1=CC=C(C=C1)C2=CC=C(C=C2)S(=O)2'\n",
            "[06:51:43] Explicit valence for atom # 6 N, 4, is greater than permitted\n",
            "[06:51:43] Explicit valence for atom # 6 N, 4, is greater than permitted\n",
            "[06:51:43] SMILES Parse Error: unclosed ring for input: 'C1=CC=C(C=C1)C2=CC=C(C=C2)NO2'\n",
            "[06:51:43] SMILES Parse Error: unclosed ring for input: 'C1=CC2=C(C=C1)C=C(C3=CC=C(C=C3)NO2)C=C2'\n",
            "[06:51:43] SMILES Parse Error: unclosed ring for input: 'C1=CC2=C(C=C1)C3=CC=C(C=C3)N'\n",
            "[06:51:43] SMILES Parse Error: unclosed ring for input: 'C1=CC2=C(C=C1)C3=CC=C(C=C3)N'\n",
            "[06:51:43] SMILES Parse Error: syntax error while parsing: C3H6N2·HCl\n",
            "[06:51:43] SMILES Parse Error: Failed parsing SMILES 'C3H6N2·HCl' for input: 'C3H6N2·HCl'\n",
            "[06:51:43] SMILES Parse Error: extra open parentheses for input: 'C1(C2=C(C(C(Cl)=C3)C(Cl)=C4C(C(Cl)=C5)C(C(C(Cl)=C6)C=CC=C6)C(Cl)=C5)C(C(C(Cl)=C4)C(C(Cl)=C3)C=CC=C2)C(C(C(Cl)=C1)C=CC=C7)C=CC=C7'\n",
            "[06:51:43] SMILES Parse Error: unclosed ring for input: 'C1=CC=C2C=C(C=CC=C2)C3=CC=C(C=C3)N'\n",
            "[06:51:43] SMILES Parse Error: unclosed ring for input: 'C1=CC=C2C=C(C=CC=C2)C3=CC=CC=C3'\n",
            "[06:51:43] SMILES Parse Error: unclosed ring for input: 'C1=CC2=C(C=C1)N(C(=O)N2C)C=CC=C3'\n",
            "[06:51:43] SMILES Parse Error: unclosed ring for input: 'C1=CC2=C(C(=C1)C3=CC4=C(C=C3)C(=CC=C4)C)C'\n",
            "[06:51:43] SMILES Parse Error: unclosed ring for input: 'C1=CC2=C(C(=C1)C3=CC4=C(C=C3)C(=CC=C4)C)C'\n",
            "[06:51:43] SMILES Parse Error: unclosed ring for input: 'C1=CC(=O)NNC=O'\n",
            "[06:51:43] SMILES Parse Error: syntax error while parsing: Be\n",
            "[06:51:43] SMILES Parse Error: Failed parsing SMILES 'Be' for input: 'Be'\n",
            "[06:51:43] SMILES Parse Error: syntax error while parsing: O=Be=O\n",
            "[06:51:43] SMILES Parse Error: Failed parsing SMILES 'O=Be=O' for input: 'O=Be=O'\n",
            "[06:51:43] SMILES Parse Error: unclosed ring for input: 'C1=CC(C(=C1)OCC)C(=CC=C2)C'\n",
            "[06:51:43] SMILES Parse Error: syntax error while parsing: KOC(=S)N(C(CO)CO)C(CO)CO\n",
            "[06:51:43] SMILES Parse Error: Failed parsing SMILES 'KOC(=S)N(C(CO)CO)C(CO)CO' for input: 'KOC(=S)N(C(CO)CO)C(CO)CO'\n",
            "[06:51:43] Explicit valence for atom # 1 Br, 4, is greater than permitted\n",
            "[06:51:43] SMILES Parse Error: syntax error while parsing: CC(OH)Br\n",
            "[06:51:43] SMILES Parse Error: Failed parsing SMILES 'CC(OH)Br' for input: 'CC(OH)Br'\n",
            "[06:51:43] SMILES Parse Error: syntax error while parsing: C12H15NO3\n",
            "[06:51:43] SMILES Parse Error: Failed parsing SMILES 'C12H15NO3' for input: 'C12H15NO3'\n",
            "[06:51:43] SMILES Parse Error: syntax error while parsing: C12H9N\n",
            "[06:51:43] SMILES Parse Error: Failed parsing SMILES 'C12H9N' for input: 'C12H9N'\n",
            "[06:51:43] SMILES Parse Error: unclosed ring for input: 'CCl4'\n",
            "[06:51:43] SMILES Parse Error: syntax error while parsing: C5H6ClN3O3\n",
            "[06:51:43] SMILES Parse Error: Failed parsing SMILES 'C5H6ClN3O3' for input: 'C5H6ClN3O3'\n",
            "[06:51:43] SMILES Parse Error: syntax error while parsing: C6H4(OH)2\n",
            "[06:51:43] SMILES Parse Error: Failed parsing SMILES 'C6H4(OH)2' for input: 'C6H4(OH)2'\n",
            "[06:51:43] SMILES Parse Error: syntax error while parsing: C24H40O5\n",
            "[06:51:43] SMILES Parse Error: Failed parsing SMILES 'C24H40O5' for input: 'C24H40O5'\n",
            "[06:51:43] SMILES Parse Error: syntax error while parsing: CCl3CHO\n",
            "[06:51:43] SMILES Parse Error: Failed parsing SMILES 'CCl3CHO' for input: 'CCl3CHO'\n",
            "[06:51:43] SMILES Parse Error: syntax error while parsing: CCl3CH(OH)2\n",
            "[06:51:43] SMILES Parse Error: Failed parsing SMILES 'CCl3CH(OH)2' for input: 'CCl3CH(OH)2'\n",
            "[06:51:43] SMILES Parse Error: syntax error while parsing: C6H3Cl3O2\n",
            "[06:51:43] SMILES Parse Error: Failed parsing SMILES 'C6H3Cl3O2' for input: 'C6H3Cl3O2'\n",
            "[06:51:43] SMILES Parse Error: syntax error while parsing: C14H15Cl2NO2\n",
            "[06:51:43] SMILES Parse Error: Failed parsing SMILES 'C14H15Cl2NO2' for input: 'C14H15Cl2NO2'\n",
            "[06:51:43] SMILES Parse Error: unclosed ring for input: 'C(CCl3)CCl'\n",
            "[06:51:43] Explicit valence for atom # 1 F, 2, is greater than permitted\n",
            "[06:51:43] SMILES Parse Error: unclosed ring for input: 'CCl3'\n",
            "[06:51:43] SMILES Parse Error: syntax error while parsing: CClOCH3\n",
            "[06:51:43] SMILES Parse Error: Failed parsing SMILES 'CClOCH3' for input: 'CClOCH3'\n",
            "[06:51:43] SMILES Parse Error: syntax error while parsing: Cl[Pt](Cl)(NH3)NH3\n",
            "[06:51:43] SMILES Parse Error: Failed parsing SMILES 'Cl[Pt](Cl)(NH3)NH3' for input: 'Cl[Pt](Cl)(NH3)NH3'\n",
            "[06:51:43] SMILES Parse Error: unclosed ring for input: 'C1=C(C(=CC=C)N(C)C2=C(C=CC=N2)Cl)C(=O)C=C'\n",
            "[06:51:43] SMILES Parse Error: unclosed ring for input: 'CC(=O)N(C)C(=O)C1=C(C(=C2)C(=C)C=C(C1=O)C=CC=C)C=C'\n",
            "[06:51:43] SMILES Parse Error: unclosed ring for input: 'CoSO4'\n",
            "[06:51:43] SMILES Parse Error: syntax error while parsing: CoSO4.7H2O\n",
            "[06:51:43] SMILES Parse Error: Failed parsing SMILES 'CoSO4.7H2O' for input: 'CoSO4.7H2O'\n",
            "[06:51:43] SMILES Parse Error: unclosed ring for input: 'C1CC(=O)N(C)C2=C(C=CC=C2)C(=O)C1=CC=CC=C1'\n",
            "[06:51:43] SMILES Parse Error: syntax error while parsing: C10H12O\n",
            "[06:51:43] SMILES Parse Error: Failed parsing SMILES 'C10H12O' for input: 'C10H12O'\n",
            "[06:51:43] Explicit valence for atom # 1 N, 4, is greater than permitted\n",
            "[06:51:43] SMILES Parse Error: unclosed ring for input: 'C1=CC=C2C=CC=C3C2=CC=C1C3=CC=C4C=CC=C4C5=CC=C(C5=O)C=CC=2'\n",
            "[06:51:43] Explicit valence for atom # 1 C, 5, is greater than permitted\n",
            "[06:51:43] SMILES Parse Error: extra open parentheses for input: 'C(C(C(=O)N)C(=C(C)N)C(=C(C)N)C(=O)O'\n",
            "[06:51:43] SMILES Parse Error: unclosed ring for input: 'C1=CC=C(C(=C)C(=C(C(=O)O)C(=C)C(=O)N)C(=O)O)C(=O)O'\n",
            "[06:51:43] SMILES Parse Error: extra close parentheses while parsing: CC#C/C1=CC(=CC(=C1C(=O)O)C(=O)C)C(=C)C)\n",
            "[06:51:43] SMILES Parse Error: Failed parsing SMILES 'CC#C/C1=CC(=CC(=C1C(=O)O)C(=O)C)C(=C)C)' for input: 'CC#C/C1=CC(=CC(=C1C(=O)O)C(=O)C)C(=C)C)'\n",
            "[06:51:43] Explicit valence for atom # 2 O, 3, is greater than permitted\n",
            "[06:51:43] Explicit valence for atom # 2 N, 4, is greater than permitted\n",
            "[06:51:43] SMILES Parse Error: unclosed ring for input: 'CC(=O)N1C(C=CC2=CC=CC=C2)C(=O)N(C)C'\n",
            "[06:51:43] SMILES Parse Error: unclosed ring for input: 'CC1=CC2=C(C=C1)C(=O)N(C)C(=O)O'\n",
            "[06:51:43] SMILES Parse Error: unclosed ring for input: 'C1=CC(C)N(C)C2=C1N(C)C(=O)N'\n",
            "[06:51:43] SMILES Parse Error: unclosed ring for input: 'C1=CN(C(=O)N)C=C(C)C(=O)N'\n",
            "[06:51:43] SMILES Parse Error: syntax error while parsing: Ni(CO3)\n",
            "[06:51:43] SMILES Parse Error: Failed parsing SMILES 'Ni(CO3)' for input: 'Ni(CO3)'\n",
            "[06:51:43] SMILES Parse Error: syntax error while parsing: Ni\n",
            "[06:51:43] SMILES Parse Error: Failed parsing SMILES 'Ni' for input: 'Ni'\n",
            "[06:51:43] SMILES Parse Error: syntax error while parsing: NiS\n",
            "[06:51:43] SMILES Parse Error: Failed parsing SMILES 'NiS' for input: 'NiS'\n",
            "[06:51:43] SMILES Parse Error: unclosed ring for input: 'C(C1=CC=CC=N)N=O'\n",
            "[06:51:43] SMILES Parse Error: unclosed ring for input: 'CC(C1=CC=C(C=C1)Cl)C=C(C=C1)'\n",
            "[06:51:43] SMILES Parse Error: unclosed ring for input: 'CC1=CC=C(C=C1[N+](=O)[O-])C=C1'\n",
            "[06:51:43] Explicit valence for atom # 8 N, 4, is greater than permitted\n",
            "[06:51:43] Explicit valence for atom # 8 N, 4, is greater than permitted\n",
            "[06:51:43] SMILES Parse Error: syntax error while parsing: C6H5NHNH2\n",
            "[06:51:43] SMILES Parse Error: Failed parsing SMILES 'C6H5NHNH2' for input: 'C6H5NHNH2'\n",
            "[06:51:43] SMILES Parse Error: syntax error while parsing: C6H5NHNH3Cl\n",
            "[06:51:43] SMILES Parse Error: Failed parsing SMILES 'C6H5NHNH3Cl' for input: 'C6H5NHNH3Cl'\n",
            "[06:51:43] SMILES Parse Error: syntax error while parsing: C20H24O6\n",
            "[06:51:43] SMILES Parse Error: Failed parsing SMILES 'C20H24O6' for input: 'C20H24O6'\n",
            "[06:51:43] SMILES Parse Error: extra close parentheses while parsing: CC(=O)C1=C(C=CC2=C1C(=O)C(=C(C2=O)C)C)C)C\n",
            "[06:51:43] SMILES Parse Error: Failed parsing SMILES 'CC(=O)C1=C(C=CC2=C1C(=O)C(=C(C2=O)C)C)C)C' for input: 'CC(=O)C1=C(C=CC2=C1C(=O)C(=C(C2=O)C)C)C)C'\n",
            "[06:51:43] SMILES Parse Error: extra close parentheses while parsing: CC1=CC(=C(C(=C1C(=O)N(C)C)C)C)C)C\n",
            "[06:51:43] SMILES Parse Error: Failed parsing SMILES 'CC1=CC(=C(C(=C1C(=O)N(C)C)C)C)C)C' for input: 'CC1=CC(=C(C(=C1C(=O)N(C)C)C)C)C)C'\n",
            "[06:51:43] SMILES Parse Error: extra close parentheses while parsing: CC(=O)C1=CC(=C(C(=C1C(=O)N(C)C)C)C)C)\n",
            "[06:51:43] SMILES Parse Error: Failed parsing SMILES 'CC(=O)C1=CC(=C(C(=C1C(=O)N(C)C)C)C)C)' for input: 'CC(=O)C1=CC(=C(C(=C1C(=O)N(C)C)C)C)C)'\n",
            "[06:51:43] SMILES Parse Error: extra close parentheses while parsing: C1=C(C(=C2C(=C(C=C(C2=C1)C)C)C(=O)N(C)C)C)C)\n",
            "[06:51:43] SMILES Parse Error: Failed parsing SMILES 'C1=C(C(=C2C(=C(C=C(C2=C1)C)C)C(=O)N(C)C)C)C)' for input: 'C1=C(C(=C2C(=C(C=C(C2=C1)C)C)C(=O)N(C)C)C)C)'\n",
            "[06:51:43] SMILES Parse Error: extra close parentheses while parsing: C(C)C(C)C1=CC(=C(C(=C1C(=O)N(C)C)C)C)C)C\n",
            "[06:51:43] SMILES Parse Error: Failed parsing SMILES 'C(C)C(C)C1=CC(=C(C(=C1C(=O)N(C)C)C)C)C)C' for input: 'C(C)C(C)C1=CC(=C(C(=C1C(=O)N(C)C)C)C)C)C'\n",
            "[06:51:43] SMILES Parse Error: extra close parentheses while parsing: CC1=C(C(=C(C2=C1C(=O)N(C)C)C)C(=O)N(C)C)C)\n",
            "[06:51:43] SMILES Parse Error: Failed parsing SMILES 'CC1=C(C(=C(C2=C1C(=O)N(C)C)C)C(=O)N(C)C)C)' for input: 'CC1=C(C(=C(C2=C1C(=O)N(C)C)C)C(=O)N(C)C)C)'\n",
            "[06:51:43] SMILES Parse Error: unclosed ring for input: 'C1CC2=C3C=CC=C(C3=CC4=C2C5=C1C=CC=C5)O'\n",
            "[06:51:43] SMILES Parse Error: unclosed ring for input: 'C1(C(C)(C)C(C)(C)S(=O)(=O)C)C'\n"
          ]
        },
        {
          "output_type": "stream",
          "name": "stdout",
          "text": [
            "        NAME                                             SMILES  label  \\\n",
            "0  Allantoin                           C1(C(=O)NC(=O)N1)NC(=O)N    0.0   \n",
            "1    Benzene                                        C1=CC=CC=C1    1.0   \n",
            "2   Catechol                                  C1=CC=C(C(=C1)O)O    1.0   \n",
            "3     Kepone  C1(=O)C2(C3(C4(C1(C5(C2(C3(C(C45Cl)(Cl)Cl)Cl)C...    1.0   \n",
            "4   Coumarin                           C1=CC=C2C(=C1)C=CC(=O)O2    1.0   \n",
            "\n",
            "   MolecularWeight  NumHDonors  NumHAcceptors    TPSA    LogP  \n",
            "0          158.117         4.0            3.0  113.32 -2.1798  \n",
            "1           78.114         0.0            0.0    0.00  1.6866  \n",
            "2          110.112         2.0            2.0   40.46  1.0978  \n",
            "3          490.639         0.0            1.0   17.07  4.6182  \n",
            "4          146.145         0.0            2.0   30.21  1.7930  \n"
          ]
        },
        {
          "output_type": "stream",
          "name": "stderr",
          "text": [
            "[06:51:43] Explicit valence for atom # 3 N, 4, is greater than permitted\n"
          ]
        }
      ],
      "source": [
        "from rdkit import Chem\n",
        "from rdkit.Chem import Descriptors\n",
        "\n",
        "# Function to generate molecular descriptors\n",
        "def generate_descriptors(smiles):\n",
        "    mol = Chem.MolFromSmiles(smiles)\n",
        "    if mol is None:  # To handle invalid SMILES\n",
        "        return None\n",
        "    descriptors = {\n",
        "        'MolecularWeight': Descriptors.MolWt(mol),\n",
        "        'NumHDonors': Descriptors.NumHDonors(mol),\n",
        "        'NumHAcceptors': Descriptors.NumHAcceptors(mol),\n",
        "        'TPSA': Descriptors.TPSA(mol),  # Topological polar surface area\n",
        "        'LogP': Descriptors.MolLogP(mol)  # LogP (lipophilicity)\n",
        "    }\n",
        "    return descriptors\n",
        "\n",
        "# Apply the function to each row in the dataset\n",
        "df['descriptors'] = df['SMILES'].apply(generate_descriptors)\n",
        "\n",
        "# Drop rows where SMILES were invalid and descriptors are None\n",
        "df = df.dropna(subset=['descriptors'])\n",
        "\n",
        "# Convert the descriptors to separate columns\n",
        "descriptors_df = pd.DataFrame(df['descriptors'].tolist())\n",
        "df = pd.concat([df, descriptors_df], axis=1)\n",
        "df = df.drop(columns=['descriptors'])\n",
        "\n",
        "print(df.head())\n"
      ]
    },
    {
      "cell_type": "code",
      "execution_count": null,
      "metadata": {
        "colab": {
          "base_uri": "https://localhost:8080/"
        },
        "id": "8NRl7jWLWcRd",
        "outputId": "c6799718-df88-48f9-99ab-faad0ba3e0eb"
      },
      "outputs": [
        {
          "output_type": "stream",
          "name": "stdout",
          "text": [
            "           NAME                                             SMILES  label  \\\n",
            "0     Allantoin                           C1(C(=O)NC(=O)N1)NC(=O)N    0.0   \n",
            "1       Benzene                                        C1=CC=CC=C1    1.0   \n",
            "2      Catechol                                  C1=CC=C(C(=C1)O)O    1.0   \n",
            "3        Kepone  C1(=O)C2(C3(C4(C1(C5(C2(C3(C(C45Cl)(Cl)Cl)Cl)C...    1.0   \n",
            "4      Coumarin                           C1=CC=C2C(=C1)C=CC(=O)O2    1.0   \n",
            "...         ...                                                ...    ...   \n",
            "1701        NaN                                                NaN    NaN   \n",
            "1702        NaN                                                NaN    NaN   \n",
            "1724        NaN                                                NaN    NaN   \n",
            "1725        NaN                                                NaN    NaN   \n",
            "1727        NaN                                                NaN    NaN   \n",
            "\n",
            "      MolecularWeight  NumHDonors  NumHAcceptors    TPSA    LogP  \n",
            "0             158.117         4.0            3.0  113.32 -2.1798  \n",
            "1              78.114         0.0            0.0    0.00  1.6866  \n",
            "2             110.112         2.0            2.0   40.46  1.0978  \n",
            "3             490.639         0.0            1.0   17.07  4.6182  \n",
            "4             146.145         0.0            2.0   30.21  1.7930  \n",
            "...               ...         ...            ...     ...     ...  \n",
            "1701          168.243         1.0            4.0   49.41 -0.5856  \n",
            "1702           61.109         1.0            1.0   26.02 -0.0977  \n",
            "1724           46.044         0.0            0.0    0.00  1.0994  \n",
            "1725           96.944         0.0            0.0    0.00  1.9352  \n",
            "1727          214.225         4.0            6.0  127.39 -1.7601  \n",
            "\n",
            "[1815 rows x 8 columns]\n"
          ]
        }
      ],
      "source": [
        "print(df)"
      ]
    },
    {
      "cell_type": "code",
      "execution_count": null,
      "metadata": {
        "colab": {
          "base_uri": "https://localhost:8080/"
        },
        "id": "V7TJNes7Mp7j",
        "outputId": "cb2d57ff-ccd9-4eaf-f2bd-ac5d81670ef3"
      },
      "outputs": [
        {
          "output_type": "stream",
          "name": "stdout",
          "text": [
            "label\n",
            "0.0    1305\n",
            "1.0    1305\n",
            "Name: count, dtype: int64\n",
            "Accuracy: 0.8639846743295019\n",
            "              precision    recall  f1-score   support\n",
            "\n",
            "         0.0       0.81      0.91      0.86       239\n",
            "         1.0       0.92      0.82      0.87       283\n",
            "\n",
            "    accuracy                           0.86       522\n",
            "   macro avg       0.87      0.87      0.86       522\n",
            "weighted avg       0.87      0.86      0.86       522\n",
            "\n",
            "roc_auc: 0.9357821902213285\n"
          ]
        }
      ],
      "source": [
        "import pandas as pd\n",
        "from sklearn.model_selection import train_test_split\n",
        "from sklearn.svm import SVC\n",
        "from sklearn.metrics import classification_report, accuracy_score\n",
        "from imblearn.over_sampling import RandomOverSampler\n",
        "from sklearn.ensemble import RandomForestClassifier\n",
        "from imblearn.over_sampling import RandomOverSampler\n",
        "from sklearn.metrics import roc_auc_score\n",
        "\n",
        "# Define X (features) and y (labels)\n",
        "X = df[['MolecularWeight', 'NumHDonors', 'NumHAcceptors', 'TPSA', 'LogP']]\n",
        "y = df['label']\n",
        "X=X.dropna()\n",
        "y=y.dropna()\n",
        "ros = RandomOverSampler(random_state=42)\n",
        "X_res, y_res = ros.fit_resample(X, y)\n",
        "\n",
        "print(pd.Series(y_res).value_counts())\n",
        "\n",
        "\n",
        "X_train, X_test, y_train, y_test = train_test_split(X_res, y_res, test_size=0.2, random_state=42)\n",
        "rf_classifier = RandomForestClassifier(n_estimators=100, random_state=42)\n",
        "\n",
        "rf_classifier.fit(X_train, y_train)\n",
        "\n",
        "y_pred = rf_classifier.predict(X_test)\n",
        "\n",
        "accuracy = accuracy_score(y_test, y_pred)\n",
        "print(f\"Accuracy: {accuracy}\")\n",
        "\n",
        "print(classification_report(y_test, y_pred))\n",
        "\n",
        "\n",
        "y_probs = rf_classifier.predict_proba(X_test)[:, 1]\n",
        "roc_auc = roc_auc_score(y_test, y_probs)\n",
        "print(f\"roc_auc: {roc_auc}\")"
      ]
    },
    {
      "cell_type": "code",
      "execution_count": null,
      "metadata": {
        "colab": {
          "base_uri": "https://localhost:8080/",
          "height": 564
        },
        "id": "zrz_7tsQhKVd",
        "outputId": "4bce98ab-8bad-4a7e-b961-8e945fd0e4be"
      },
      "outputs": [
        {
          "output_type": "display_data",
          "data": {
            "text/plain": [
              "<Figure size 800x600 with 1 Axes>"
            ],
            "image/png": "[encoded data removed]"
          },
          "metadata": {}
        }
      ],
      "source": [
        "\n",
        "from sklearn.metrics import precision_recall_curve\n",
        "from sklearn.metrics import auc\n",
        "\n",
        "precision, recall, thresholds = precision_recall_curve(y_test, y_probs)\n",
        "pr_auc = auc(recall, precision)\n",
        "\n",
        "plt.figure(figsize=(8, 6))\n",
        "plt.plot(recall, precision, label='Precision-Recall curve (AUC = %0.2f)' % pr_auc)\n",
        "plt.xlabel('Recall')\n",
        "plt.ylabel('Precision')\n",
        "plt.title('Precision-Recall Curve')\n",
        "plt.legend(loc='lower left')\n",
        "plt.show()"
      ]
    },
    {
      "cell_type": "code",
      "source": [
        "\n",
        "import pandas as pd\n",
        "from sklearn.model_selection import train_test_split\n",
        "from sklearn.svm import SVC\n",
        "from sklearn.metrics import classification_report, accuracy_score\n",
        "from imblearn.over_sampling import RandomOverSampler\n",
        "from sklearn.ensemble import RandomForestClassifier\n",
        "from imblearn.over_sampling import RandomOverSampler\n",
        "from sklearn.metrics import roc_auc_score\n",
        "from sklearn.metrics import roc_curve\n",
        "import matplotlib.pyplot as plt\n",
        "\n",
        "from sklearn.metrics import roc_curve\n",
        "\n",
        "# Calculate ROC curve\n",
        "fpr, tpr, thresholds = roc_curve(y_test, y_probs)\n",
        "\n",
        "# Plot ROC curve\n",
        "plt.figure(figsize=(8, 6))\n",
        "plt.plot(fpr, tpr, label=f'ROC Curve (AUC = {roc_auc:.2f})')\n",
        "plt.plot([0, 1], [0, 1], 'k--')\n",
        "plt.xlabel('False Positive Rate')\n",
        "plt.ylabel('True Positive Rate')\n",
        "plt.title('ROC Curve')\n",
        "plt.legend(loc='lower right')\n",
        "plt.show()"
      ],
      "metadata": {
        "colab": {
          "base_uri": "https://localhost:8080/",
          "height": 564
        },
        "id": "eCXuSd-YXR_0",
        "outputId": "513d447c-a344-4a4f-e46a-9787dd7afa41"
      },
      "execution_count": null,
      "outputs": [
        {
          "output_type": "display_data",
          "data": {
            "text/plain": [
              "<Figure size 800x600 with 1 Axes>"
            ],
            "image/png": "[encoded data removed]"
          },
          "metadata": {}
        }
      ]
    },
    {
      "cell_type": "code",
      "source": [
        "# prompt: genereate a correlation matrix for random forest\n",
        "\n",
        "import pandas as pd\n",
        "import matplotlib.pyplot as plt\n",
        "import seaborn as sns\n",
        "from sklearn.ensemble import RandomForestClassifier\n",
        "from sklearn.model_selection import train_test_split\n",
        "\n",
        "# Assuming X and y are already defined as in your previous code\n",
        "# ... (Your existing code to define X and y) ...\n",
        "\n",
        "\n",
        "# Assuming X and y are already defined from your previous code\n",
        "X_train, X_test, y_train, y_test = train_test_split(X_res, y_res, test_size=0.2, random_state=42)\n",
        "\n",
        "rf_classifier = RandomForestClassifier(n_estimators=100, random_state=42)\n",
        "rf_classifier.fit(X_train, y_train)\n",
        "\n",
        "# Feature importances from the trained RandomForestClassifier\n",
        "importances = rf_classifier.feature_importances_\n",
        "\n",
        "# Create a DataFrame for better visualization\n",
        "feature_importances = pd.DataFrame({'feature': X_train.columns, 'importance': importances})\n",
        "feature_importances = feature_importances.sort_values(by='importance', ascending=False)\n",
        "\n",
        "# Calculate the correlation matrix\n",
        "correlation_matrix = X_train.corr()\n",
        "\n",
        "\n",
        "# Plot the correlation matrix as a heatmap\n",
        "plt.figure(figsize=(10, 8))\n",
        "sns.heatmap(correlation_matrix, annot=True, cmap='coolwarm', fmt=\".2f\")\n",
        "plt.title('Correlation Matrix of Features')\n",
        "plt.show()"
      ],
      "metadata": {
        "id": "sv0w_JCcRL6B",
        "colab": {
          "base_uri": "https://localhost:8080/",
          "height": 699
        },
        "outputId": "ed2a4e65-f9be-408f-b0a9-89a1f48757b0"
      },
      "execution_count": null,
      "outputs": [
        {
          "output_type": "display_data",
          "data": {
            "text/plain": [
              "<Figure size 1000x800 with 2 Axes>"
            ],
            "image/png": "[encoded data removed]"
          },
          "metadata": {}
        }
      ]
    },
    {
      "cell_type": "code",
      "execution_count": null,
      "metadata": {
        "colab": {
          "base_uri": "https://localhost:8080/",
          "height": 564
        },
        "id": "mfBEIgbn9VB-",
        "outputId": "1b361cd6-1eb4-47b6-80f2-e49d9564c937"
      },
      "outputs": [
        {
          "output_type": "display_data",
          "data": {
            "text/plain": [
              "<Figure size 800x600 with 2 Axes>"
            ],
            "image/png": "[encoded data removed]"
          },
          "metadata": {}
        }
      ],
      "source": [
        "\n",
        "from sklearn.metrics import confusion_matrix\n",
        "import seaborn as sns\n",
        "\n",
        "cm = confusion_matrix(y_test, y_pred)\n",
        "\n",
        "plt.figure(figsize=(8, 6))\n",
        "sns.heatmap(cm, annot=True, fmt=\"d\", cmap=\"Blues\",\n",
        "            xticklabels=['Predicted 0', 'Predicted 1'],\n",
        "            yticklabels=['Actual 0', 'Actual 1'])\n",
        "plt.title(\"Confusion Matrix for Random Forest Classifier\")\n",
        "plt.xlabel(\"Predicted Labels\")\n",
        "plt.ylabel(\"True Labels\")\n",
        "plt.show()"
      ]
    },
    {
      "cell_type": "code",
      "execution_count": null,
      "metadata": {
        "colab": {
          "base_uri": "https://localhost:8080/"
        },
        "id": "EXpU9tYA2gjn",
        "outputId": "7ca74bbd-ee33-4832-aec1-30c35a3a1312"
      },
      "outputs": [
        {
          "output_type": "stream",
          "name": "stdout",
          "text": [
            "Model saved to oncogenic_model.pkl\n"
          ]
        }
      ],
      "source": [
        "import pickle\n",
        "filename = 'oncogenic_model.pkl'\n",
        "pickle.dump(rf_classifier, open(filename, 'wb'))\n",
        "\n",
        "print(f\"Model saved to {filename}\")"
      ]
    },
    {
      "cell_type": "code",
      "execution_count": null,
      "metadata": {
        "colab": {
          "base_uri": "https://localhost:8080/"
        },
        "id": "W__W_JNp3SJ9",
        "outputId": "e8d324f0-40fe-48c5-e2f7-069f7f6a7d98"
      },
      "outputs": [
        {
          "output_type": "stream",
          "name": "stdout",
          "text": [
            "Collecting pytesseract\n",
            "  Downloading pytesseract-0.3.13-py3-none-any.whl.metadata (11 kB)\n",
            "Requirement already satisfied: packaging>=21.3 in /usr/local/lib/python3.10/dist-packages (from pytesseract) (24.1)\n",
            "Requirement already satisfied: Pillow>=8.0.0 in /usr/local/lib/python3.10/dist-packages (from pytesseract) (10.4.0)\n",
            "Downloading pytesseract-0.3.13-py3-none-any.whl (14 kB)\n",
            "Installing collected packages: pytesseract\n",
            "Successfully installed pytesseract-0.3.13\n"
          ]
        }
      ],
      "source": [
        "!pip install pytesseract\n"
      ]
    },
    {
      "cell_type": "code",
      "execution_count": null,
      "metadata": {
        "colab": {
          "base_uri": "https://localhost:8080/",
          "height": 332
        },
        "id": "jSBJoTfa9l-Q",
        "outputId": "dfbe98ca-5cce-4541-d728-77b9be228a86"
      },
      "outputs": [
        {
          "output_type": "error",
          "ename": "FileNotFoundError",
          "evalue": "[Errno 2] No such file or directory: '/content/image.png'",
          "traceback": [
            "\u001b[0;31m---------------------------------------------------------------------------\u001b[0m",
            "\u001b[0;31mFileNotFoundError\u001b[0m                         Traceback (most recent call last)",
            "\u001b[0;32m<ipython-input-19-a2b1f4948145>\u001b[0m in \u001b[0;36m<cell line: 5>\u001b[0;34m()\u001b[0m\n\u001b[1;32m      3\u001b[0m \u001b[0;34m\u001b[0m\u001b[0m\n\u001b[1;32m      4\u001b[0m \u001b[0;31m# Load your image\u001b[0m\u001b[0;34m\u001b[0m\u001b[0;34m\u001b[0m\u001b[0m\n\u001b[0;32m----> 5\u001b[0;31m \u001b[0mimage\u001b[0m \u001b[0;34m=\u001b[0m \u001b[0mImage\u001b[0m\u001b[0;34m.\u001b[0m\u001b[0mopen\u001b[0m\u001b[0;34m(\u001b[0m\u001b[0;34m'/content/image.png'\u001b[0m\u001b[0;34m)\u001b[0m\u001b[0;34m\u001b[0m\u001b[0;34m\u001b[0m\u001b[0m\n\u001b[0m\u001b[1;32m      6\u001b[0m \u001b[0;34m\u001b[0m\u001b[0m\n\u001b[1;32m      7\u001b[0m \u001b[0;31m# Perform OCR\u001b[0m\u001b[0;34m\u001b[0m\u001b[0;34m\u001b[0m\u001b[0m\n",
            "\u001b[0;32m/usr/local/lib/python3.10/dist-packages/PIL/Image.py\u001b[0m in \u001b[0;36mopen\u001b[0;34m(fp, mode, formats)\u001b[0m\n\u001b[1;32m   3429\u001b[0m \u001b[0;34m\u001b[0m\u001b[0m\n\u001b[1;32m   3430\u001b[0m     \u001b[0;32mif\u001b[0m \u001b[0mfilename\u001b[0m\u001b[0;34m:\u001b[0m\u001b[0;34m\u001b[0m\u001b[0;34m\u001b[0m\u001b[0m\n\u001b[0;32m-> 3431\u001b[0;31m         \u001b[0mfp\u001b[0m \u001b[0;34m=\u001b[0m \u001b[0mbuiltins\u001b[0m\u001b[0;34m.\u001b[0m\u001b[0mopen\u001b[0m\u001b[0;34m(\u001b[0m\u001b[0mfilename\u001b[0m\u001b[0;34m,\u001b[0m \u001b[0;34m\"rb\"\u001b[0m\u001b[0;34m)\u001b[0m\u001b[0;34m\u001b[0m\u001b[0;34m\u001b[0m\u001b[0m\n\u001b[0m\u001b[1;32m   3432\u001b[0m         \u001b[0mexclusive_fp\u001b[0m \u001b[0;34m=\u001b[0m \u001b[0;32mTrue\u001b[0m\u001b[0;34m\u001b[0m\u001b[0;34m\u001b[0m\u001b[0m\n\u001b[1;32m   3433\u001b[0m     \u001b[0;32melse\u001b[0m\u001b[0;34m:\u001b[0m\u001b[0;34m\u001b[0m\u001b[0;34m\u001b[0m\u001b[0m\n",
            "\u001b[0;31mFileNotFoundError\u001b[0m: [Errno 2] No such file or directory: '/content/image.png'"
          ]
        }
      ],
      "source": [
        "import pytesseract\n",
        "from PIL import Image\n",
        "\n",
        "# Load your image\n",
        "image = Image.open('/content/image.png')\n",
        "\n",
        "# Perform OCR\n",
        "text = pytesseract.image_to_string(image)\n",
        "text_lines = text.split('\\n')\n",
        "single_elements = [item.strip() for sublist in text_lines for item in sublist.split(',')]\n",
        "\n",
        "# Remove any empty strings or unwanted characters\n",
        "single_elements = [item.lower() for item in single_elements if item]\n",
        "single_elements.remove(single_elements[0])\n",
        "print(single_elements)"
      ]
    },
    {
      "cell_type": "code",
      "execution_count": null,
      "metadata": {
        "id": "0guTCa7OpEP_"
      },
      "outputs": [],
      "source": [
        "\n",
        "from sklearn.metrics import precision_recall_curve\n",
        "from sklearn.metrics import auc\n",
        "\n",
        "precision, recall, thresholds = precision_recall_curve(y_test, y_probs)\n",
        "pr_auc = auc(recall, precision)\n",
        "\n",
        "plt.figure(figsize=(8, 6))\n",
        "plt.plot(recall, precision, label='Precision-Recall curve (AUC = %0.2f)' % pr_auc)\n",
        "plt.xlabel('Recall')\n",
        "plt.ylabel('Precision')\n",
        "plt.title('Precision-Recall Curve')\n",
        "plt.legend(loc='lower left')\n",
        "plt.show()"
      ]
    },
    {
      "cell_type": "code",
      "execution_count": null,
      "metadata": {
        "id": "HZVcLEnUdoGB"
      },
      "outputs": [],
      "source": [
        "from sklearn.tree import DecisionTreeClassifier\n",
        "\n",
        "dt_classifier = DecisionTreeClassifier(random_state=42)\n",
        "\n",
        "dt_classifier.fit(X_train, y_train)\n",
        "\n",
        "y_pred = dt_classifier.predict(X_test)\n",
        "\n",
        "accuracy = accuracy_score(y_test, y_pred)\n",
        "print(f\"Accuracy: {accuracy}\")\n",
        "\n",
        "print(classification_report(y_test, y_pred))\n"
      ]
    },
    {
      "cell_type": "code",
      "execution_count": null,
      "metadata": {
        "id": "kZC2S1VpeoGx"
      },
      "outputs": [],
      "source": [
        "from sklearn.ensemble import BaggingClassifier\n",
        "from sklearn.metrics import roc_auc_score\n",
        "\n",
        "bagging_classifier = BaggingClassifier(estimator=RandomForestClassifier(random_state=42),\n",
        "                                      n_estimators=100,\n",
        "                                       random_state=42)\n",
        "\n",
        "\n",
        "bagging_classifier.fit(X_train, y_train)\n",
        "\n",
        "y_pred = bagging_classifier.predict(X_test)\n",
        "\n",
        "accuracy = accuracy_score(y_test, y_pred)\n",
        "print(f\"Accuracy: {accuracy}\")\n",
        "print(classification_report(y_test, y_pred))\n",
        "\n",
        "y_probs = bagging_classifier.predict_proba(X_test)[:, 1]\n",
        "roc_auc = roc_auc_score(y_test, y_probs)\n",
        "print(f\"ROC-AUC score {roc_auc}\")"
      ]
    },
    {
      "cell_type": "code",
      "execution_count": null,
      "metadata": {
        "id": "k8F-utQ2RK5y"
      },
      "outputs": [],
      "source": [
        "\n",
        "from sklearn.metrics import confusion_matrix\n",
        "import seaborn as sns\n",
        "\n",
        "# Generate the confusion matrix\n",
        "cm = confusion_matrix(y_test, y_pred)\n",
        "\n",
        "# Create a heatmap for the confusion matrix\n",
        "plt.figure(figsize=(8, 6))\n",
        "sns.heatmap(cm, annot=True, fmt='d', cmap='Blues',\n",
        "            xticklabels=['Non-Carcinogenic', 'Carcinogenic'],\n",
        "            yticklabels=['Non-Carcinogenic', 'Carcinogenic'])\n",
        "plt.title('Confusion Matrix for Bagging Classifier')\n",
        "plt.xlabel('Predicted Label')\n",
        "plt.ylabel('True Label')\n",
        "plt.show()\n"
      ]
    },
    {
      "cell_type": "code",
      "execution_count": null,
      "metadata": {
        "colab": {
          "base_uri": "https://localhost:8080/"
        },
        "id": "t4HwoPgiNMBL",
        "outputId": "348d2e03-7a1a-43cb-9afb-ef39464f5a6b"
      },
      "outputs": [
        {
          "output_type": "stream",
          "name": "stdout",
          "text": [
            "Collecting pubchempy\n",
            "  Downloading PubChemPy-1.0.4.tar.gz (29 kB)\n",
            "  Preparing metadata (setup.py) ... \u001b[?25l\u001b[?25hdone\n",
            "Building wheels for collected packages: pubchempy\n",
            "  Building wheel for pubchempy (setup.py) ... \u001b[?25l\u001b[?25hdone\n",
            "  Created wheel for pubchempy: filename=PubChemPy-1.0.4-py3-none-any.whl size=13819 sha256=c0b87806cb8fa1770f49ad94cc1a467d2d1df7d11eddf1d8d1e55905c296eaac\n",
            "  Stored in directory: /root/.cache/pip/wheels/90/7c/45/18a0671e3c3316966ef7ed9ad2b3f3300a7e41d3421a44e799\n",
            "Successfully built pubchempy\n",
            "Installing collected packages: pubchempy\n",
            "Successfully installed pubchempy-1.0.4\n"
          ]
        }
      ],
      "source": [
        "!pip install pubchempy"
      ]
    },
    {
      "cell_type": "code",
      "execution_count": null,
      "metadata": {
        "colab": {
          "base_uri": "https://localhost:8080/"
        },
        "id": "GP7Ggx4jNJo0",
        "outputId": "dc454cf1-c7e9-4cdd-c742-9dd62fb115bf"
      },
      "outputs": [
        {
          "output_type": "stream",
          "name": "stdout",
          "text": [
            "Error retrieving SMILES for Iso Propyl Myristate: No SMILES found for: Iso Propyl Myristate\n",
            "Chemical: Kaolin, Predicted Oncogenicity: Non-oncogenic\n",
            "Chemical: Bentonite, Predicted Oncogenicity: Non-oncogenic\n",
            "Chemical: Glycerin, Predicted Oncogenicity: Non-oncogenic\n",
            "Chemical: Cetostearyl Alcohol, Predicted Oncogenicity: Non-oncogenic\n",
            "Chemical: Iso Propyl Myristate, Predicted Oncogenicity: Non-oncogenic\n",
            "Chemical: Glycerol Monostearate, Predicted Oncogenicity: Oncogenic\n"
          ]
        }
      ],
      "source": [
        "import pubchempy as pcp\n",
        "from rdkit import Chem\n",
        "from rdkit.Chem import Descriptors\n",
        "import pandas as pd\n",
        "\n",
        "def get_smiles_from_name(chemical_name):\n",
        "    try:\n",
        "        compound = pcp.get_compounds(chemical_name, 'name')\n",
        "        if compound:\n",
        "            return compound[0].canonical_smiles\n",
        "        else:\n",
        "            raise ValueError(f\"No SMILES found for: {chemical_name}\")\n",
        "    except Exception as e:\n",
        "        print(f\"Error retrieving SMILES for {chemical_name}: {e}\")\n",
        "        return None\n",
        "\n",
        "def compute_descriptors(smiles):\n",
        "    mol = Chem.MolFromSmiles(smiles)\n",
        "    if mol is None:\n",
        "        raise ValueError(f\"Invalid SMILES: {smiles}\")\n",
        "    descriptors = {\n",
        "        'MolecularWeight': Descriptors.MolWt(mol),\n",
        "        'NumHDonors': Descriptors.NumHDonors(mol),\n",
        "        'NumHAcceptors': Descriptors.NumHAcceptors(mol),\n",
        "        'TPSA': Descriptors.TPSA(mol),\n",
        "        'LogP': Descriptors.MolLogP(mol)\n",
        "    }\n",
        "    return pd.DataFrame([descriptors])\n",
        "\n",
        "new_chemical_names = ['Kaolin', 'Bentonite', 'Glycerin','Cetostearyl Alcohol', 'Iso Propyl Myristate',\n",
        "'Glycerol Monostearate', 'Cetyl Alcohol']\n",
        "\n",
        "new_data_smiles = [get_smiles_from_name(name) for name in new_chemical_names]\n",
        "\n",
        "new_data_smiles = [smiles for smiles in new_data_smiles if smiles is not None]\n",
        "\n",
        "new_data_features = pd.concat([compute_descriptors(smiles) for smiles in new_data_smiles], ignore_index=True)\n",
        "\n",
        "new_predictions = rf_classifier.predict(new_data_features)\n",
        "\n",
        "for name, pred in zip(new_chemical_names, new_predictions):\n",
        "    print(f\"Chemical: {name}, Predicted Oncogenicity: {'Oncogenic' if pred == 1 else 'Non-oncogenic'}\")\n"
      ]
    },
    {
      "cell_type": "code",
      "execution_count": null,
      "metadata": {
        "id": "clE2CJQerlAx"
      },
      "outputs": [],
      "source": [
        "\n",
        "svm_classifier = SVC(kernel='linear', probability=True, random_state=42)\n",
        "\n",
        "svm_classifier.fit(X_train, y_train)\n",
        "\n",
        "y_pred = svm_classifier.predict(X_test)\n",
        "\n",
        "# Evaluate the model\n",
        "accuracy = accuracy_score(y_test, y_pred)\n",
        "print(f\"Accuracy: {accuracy}\")\n",
        "\n",
        "# Evaluate the model\n",
        "print(classification_report(y_test, y_pred))\n",
        "\n",
        "y_probs = svm_classifier.predict_proba(X_test)[:, 1]\n",
        "roc_auc = roc_auc_score(y_test, y_probs)\n",
        "\n",
        "print(f\"ROC AUC Score: {roc_auc}\")\n"
      ]
    },
    {
      "cell_type": "code",
      "execution_count": null,
      "metadata": {
        "id": "ZHbb_oniaIRV"
      },
      "outputs": [],
      "source": [
        "\n",
        "\n",
        "from xgboost import XGBClassifier\n",
        "\n",
        "# Create an XGBoost classifier\n",
        "xgb_classifier = XGBClassifier(random_state=42)\n",
        "\n",
        "# Train the XGBoost classifier\n",
        "xgb_classifier.fit(X_train, y_train)\n",
        "\n",
        "# Make predictions on the test set\n",
        "y_pred = xgb_classifier.predict(X_test)\n",
        "\n",
        "# Evaluate the model\n",
        "accuracy = accuracy_score(y_test, y_pred)\n",
        "print(f\"Accuracy: {accuracy}\")\n",
        "\n",
        "# Evaluate the model\n",
        "print(classification_report(y_test, y_pred))\n",
        "\n",
        "y_probs = xgb_classifier.predict_proba(X_test)[:, 1]\n",
        "roc_auc = roc_auc_score(y_test, y_probs)\n",
        "\n",
        "print(f\"ROC AUC Score: {roc_auc}\")\n",
        "\n",
        "# Generate the confusion matrix\n",
        "cm = confusion_matrix(y_test, y_pred)\n",
        "\n",
        "# Create a heatmap for the confusion matrix\n",
        "plt.figure(figsize=(8, 6))\n",
        "sns.heatmap(cm, annot=True, fmt='d', cmap='Blues',\n",
        "            xticklabels=['Non-Carcinogenic', 'Carcinogenic'],\n",
        "            yticklabels=['Non-Carcinogenic', 'Carcinogenic'])\n",
        "plt.title('Confusion Matrix for XGBoost Classifier')\n",
        "plt.xlabel('Predicted Label')\n",
        "plt.ylabel('True Label')\n",
        "plt.show()\n"
      ]
    }
  ],
  "metadata": {
    "colab": {
      "provenance": [],
      "toc_visible": true
    },
    "kernelspec": {
      "display_name": "Python 3",
      "name": "python3"
    },
    "language_info": {
      "name": "python"
    }
  },
  "nbformat": 4,
  "nbformat_minor": 0
}